{
 "cells": [
  {
   "cell_type": "code",
   "execution_count": 14,
   "metadata": {},
   "outputs": [],
   "source": [
    "import cv2\n",
    "import math\n"
   ]
  },
  {
   "cell_type": "code",
   "execution_count": 15,
   "metadata": {},
   "outputs": [],
   "source": [
    "\n",
    "bodyclassifier=cv2.CascadeClassifier('haarcascade_fullbody.xml')\n",
    "video=cv2.VideoCapture('video2.avi')\n",
    "while(True):\n",
    "    ret,frame=video.read()\n",
    "    gray=cv2.cvtColor(frame,cv2.COLOR_BGR2GRAY)\n",
    "    \n",
    "    body=bodyclassifier.detectMultiScale(gray,scaleFactor=1.2,minNeighbors=3)\n",
    "                \n",
    "    for (x,y,w,h) in body:\n",
    "        \n",
    "        cv2.rectangle(frame,(x,y),(x+w,y+h),(0,255,0),1)\n",
    "    for i in range(len(body)):\n",
    "            for j in range(i+1,len(body)):\n",
    "                d=math.sqrt(((body[j][0]-body[i][0])**2)+((body[j][1]-body[i][1])**2))\n",
    "                if(d<80):\n",
    "                    cv2.line(frame, (body[i][0],body[i][1]), (body[j][0],body[j][1]),(0, 0, 255),2)\n",
    "                    cv2.rectangle(frame,(body[i][0],body[i][1]),(body[i][0]+body[i][2],body[i][1]+body[i][3]),(0,255,255),1)\n",
    "                    cv2.rectangle(frame,(body[j][0],body[j][1]),(body[j][0]+body[j][2],body[j][1]+body[j][3]),(0,255,255),1)    \n",
    "    cv2.imshow(\"my cam\",frame)\n",
    "    \n",
    "    if cv2.waitKey(1) & 0xFF==ord('q'):\n",
    "        break\n",
    "        \n",
    "video.release()  \n",
    "cv2.destroyAllWindows()"
   ]
  },
  {
   "cell_type": "code",
   "execution_count": null,
   "metadata": {},
   "outputs": [],
   "source": []
  },
  {
   "cell_type": "code",
   "execution_count": null,
   "metadata": {},
   "outputs": [],
   "source": []
  }
 ],
 "metadata": {
  "kernelspec": {
   "display_name": "Python 3",
   "language": "python",
   "name": "python3"
  },
  "language_info": {
   "codemirror_mode": {
    "name": "ipython",
    "version": 3
   },
   "file_extension": ".py",
   "mimetype": "text/x-python",
   "name": "python",
   "nbconvert_exporter": "python",
   "pygments_lexer": "ipython3",
   "version": "3.7.1"
  }
 },
 "nbformat": 4,
 "nbformat_minor": 4
}
